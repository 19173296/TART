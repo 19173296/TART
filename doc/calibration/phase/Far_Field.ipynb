{
 "cells": [
  {
   "cell_type": "markdown",
   "metadata": {},
   "source": [
    "# Far field calculations for phase calibration\n",
    "\n",
    "For a source at distance $r$ from the phase-center of the telescope, and for an antenna\n",
    "at a distance $b$ from the phase center, what is the maximum phase error that results if we\n",
    "don't take the finite distance into consideration.\n",
    "\n",
    "A bit of geometry. The "
   ]
  },
  {
   "cell_type": "code",
   "execution_count": 1,
   "metadata": {
    "collapsed": false
   },
   "outputs": [],
   "source": [
    "import sympy as sp\n",
    "sp.init_printing(use_latex=\"mathjax\") \n",
    "\n",
    "r = sp.Symbol('r', real=True, positive=True)\n",
    "b = sp.Symbol('b', real=True, positive=True)\n",
    "\n",
    "distance_error = sp.simplify(r*(1 - sp.cos(sp.asin(b/r))))"
   ]
  },
  {
   "cell_type": "code",
   "execution_count": 2,
   "metadata": {
    "collapsed": false
   },
   "outputs": [
    {
     "data": {
      "text/latex": [
       "$$r - \\sqrt{- b^{2} + r^{2}}$$"
      ],
      "text/plain": [
       "       ___________\n",
       "      ╱    2    2 \n",
       "r - ╲╱  - b  + r  "
      ]
     },
     "execution_count": 2,
     "metadata": {},
     "output_type": "execute_result"
    }
   ],
   "source": [
    "distance_error"
   ]
  },
  {
   "cell_type": "markdown",
   "metadata": {},
   "source": [
    "## Simulation\n",
    "\n",
    "Plot the resulting distance error (measured in degrees) as a function of source radius for a telescope with a maximum radius of 2 meters."
   ]
  },
  {
   "cell_type": "code",
   "execution_count": 3,
   "metadata": {
    "collapsed": false
   },
   "outputs": [
    {
     "data": {
      "image/png": "[encoded data removed]",
      "text/plain": [
       "<matplotlib.figure.Figure at 0x7fe9b54cdb70>"
      ]
     },
     "metadata": {},
     "output_type": "display_data"
    }
   ],
   "source": [
    "import matplotlib.pyplot as plt\n",
    "import numpy as np\n",
    "\n",
    "baseline = 2.0\n",
    "wavelen = 0.19\n",
    "r = np.linspace(15,500,200)\n",
    "distance_error = r - np.sqrt(-baseline**2 + r**2)\n",
    "phase_error = (distance_error / wavelen)*2*np.pi\n",
    "plt.semilogy(r,np.degrees(phase_error))\n",
    "plt.grid(True)\n",
    "plt.xlabel('Distance to source (m)')\n",
    "plt.ylabel('Phase Error (degrees)')\n",
    "plt.title('Plane-wave Error vs source distance (b = 4m)')\n",
    "plt.show()"
   ]
  },
  {
   "cell_type": "markdown",
   "metadata": {},
   "source": [
    "The conclusion is that for all calibration sources, which are likely to be quite close (within 100m of the telescope), we need to take the source distance into consideration to keep the phase error below ten degrees. Even after 200m, the phase error is still too large."
   ]
  },
  {
   "cell_type": "markdown",
   "metadata": {
    "collapsed": true
   },
   "source": [
    "## Correction per antenna\n",
    "\n",
    "Take far-field into account by modifying the el, az of the source for each antenna."
   ]
  },
  {
   "cell_type": "code",
   "execution_count": 4,
   "metadata": {
    "collapsed": false
   },
   "outputs": [],
   "source": [
    "el_0 = sp.Symbol('theta_0', real=True, positive=True)\n",
    "az_0 = sp.Symbol('phi_0', real=True, positive=True)\n",
    "r_0 = sp.Symbol('r_0', real=True, positive=True)\n",
    "\n",
    "x0 = r_0*sp.sin(az_0) * sp.cos(el_0)\n",
    "y0 = r_0*sp.cos(az_0) * sp.cos(el_0)\n",
    "z0 = r_0*sp.sin(el_0)\n"
   ]
  },
  {
   "cell_type": "markdown",
   "metadata": {},
   "source": [
    "The antenna has coordianates $x_a, y_a$."
   ]
  },
  {
   "cell_type": "code",
   "execution_count": 5,
   "metadata": {
    "collapsed": true
   },
   "outputs": [],
   "source": [
    "x_a = sp.Symbol('x_a', real=True)\n",
    "y_a = sp.Symbol('y_a', real=True)\n",
    "z_a = sp.Symbol('z_a', real=True)"
   ]
  },
  {
   "cell_type": "markdown",
   "metadata": {},
   "source": [
    "The source has position $(x,y,z)$ in the antenna frame of reference."
   ]
  },
  {
   "cell_type": "code",
   "execution_count": 6,
   "metadata": {
    "collapsed": true
   },
   "outputs": [],
   "source": [
    "x = x0 - x_a\n",
    "y = y0 - y_a\n",
    "z = z0 - z_a"
   ]
  },
  {
   "cell_type": "markdown",
   "metadata": {},
   "source": [
    "The new antenna-relative elevation and azimuth are,"
   ]
  },
  {
   "cell_type": "code",
   "execution_count": 7,
   "metadata": {
    "collapsed": true
   },
   "outputs": [],
   "source": [
    "r = sp.simplify(sp.sqrt(x**2 + y**2 + z**2))"
   ]
  },
  {
   "cell_type": "code",
   "execution_count": 8,
   "metadata": {
    "collapsed": false
   },
   "outputs": [
    {
     "data": {
      "text/latex": [
       "$$\\sqrt{\\left(r_{0} \\sin{\\left (\\theta_{0} \\right )} - z_{a}\\right)^{2} + \\left(r_{0} \\sin{\\left (\\phi_{0} \\right )} \\cos{\\left (\\theta_{0} \\right )} - x_{a}\\right)^{2} + \\left(r_{0} \\cos{\\left (\\phi_{0} \\right )} \\cos{\\left (\\theta_{0} \\right )} - y_{a}\\right)^{2}}$$"
      ],
      "text/plain": [
       "   ___________________________________________________________________________\n",
       "  ╱                  2                            2                           \n",
       "╲╱  (r₀⋅sin(θ₀) - zₐ)  + (r₀⋅sin(φ₀)⋅cos(θ₀) - xₐ)  + (r₀⋅cos(φ₀)⋅cos(θ₀) - yₐ\n",
       "\n",
       "___\n",
       " 2 \n",
       ")  "
      ]
     },
     "execution_count": 8,
     "metadata": {},
     "output_type": "execute_result"
    }
   ],
   "source": [
    "r"
   ]
  },
  {
   "cell_type": "code",
   "execution_count": 9,
   "metadata": {
    "collapsed": false
   },
   "outputs": [
    {
     "name": "stdout",
     "output_type": "stream",
     "text": [
      "r_0 = Symbol('r_0')\n",
      "theta_0 = Symbol('theta_0')\n",
      "z_a = Symbol('z_a')\n",
      "phi_0 = Symbol('phi_0')\n",
      "x_a = Symbol('x_a')\n",
      "y_a = Symbol('y_a')\n",
      "e = sqrt((r_0*sin(theta_0) - z_a)**2 + (r_0*sin(phi_0)*cos(theta_0) - x_a)**2 + (r_0*cos(phi_0)*cos(theta_0) - y_a)**2)\n"
     ]
    }
   ],
   "source": [
    "print(sp.python(r))"
   ]
  },
  {
   "cell_type": "code",
   "execution_count": 10,
   "metadata": {
    "collapsed": false
   },
   "outputs": [
    {
     "data": {
      "text/latex": [
       "$$- r_{0} + \\sqrt{\\left(r_{0} \\sin{\\left (\\theta_{0} \\right )} - z_{a}\\right)^{2} + \\left(r_{0} \\sin{\\left (\\phi_{0} \\right )} \\cos{\\left (\\theta_{0} \\right )} - x_{a}\\right)^{2} + \\left(r_{0} \\cos{\\left (\\phi_{0} \\right )} \\cos{\\left (\\theta_{0} \\right )} - y_{a}\\right)^{2}}$$"
      ],
      "text/plain": [
       "         _____________________________________________________________________\n",
       "        ╱                  2                            2                     \n",
       "-r₀ + ╲╱  (r₀⋅sin(θ₀) - zₐ)  + (r₀⋅sin(φ₀)⋅cos(θ₀) - xₐ)  + (r₀⋅cos(φ₀)⋅cos(θ₀\n",
       "\n",
       "_________\n",
       "       2 \n",
       ") - yₐ)  "
      ]
     },
     "execution_count": 10,
     "metadata": {},
     "output_type": "execute_result"
    }
   ],
   "source": [
    "dr = sp.simplify(r - r_0)\n",
    "dr"
   ]
  },
  {
   "cell_type": "code",
   "execution_count": 11,
   "metadata": {
    "collapsed": true
   },
   "outputs": [],
   "source": [
    "#r = sp.Symbol('r', real=True, positive=True)\n",
    "el = sp.simplify(sp.asin(z/r))\n",
    "az = sp.simplify(sp.acos(y / (r*sp.cos(el))))"
   ]
  },
  {
   "cell_type": "code",
   "execution_count": 12,
   "metadata": {
    "collapsed": false
   },
   "outputs": [
    {
     "data": {
      "text/latex": [
       "$$\\operatorname{asin}{\\left (\\frac{r_{0} \\sin{\\left (\\theta_{0} \\right )} - z_{a}}{\\sqrt{\\left(r_{0} \\sin{\\left (\\theta_{0} \\right )} - z_{a}\\right)^{2} + \\left(r_{0} \\sin{\\left (\\phi_{0} \\right )} \\cos{\\left (\\theta_{0} \\right )} - x_{a}\\right)^{2} + \\left(r_{0} \\cos{\\left (\\phi_{0} \\right )} \\cos{\\left (\\theta_{0} \\right )} - y_{a}\\right)^{2}}} \\right )}$$"
      ],
      "text/plain": [
       "    ⎛                                 r₀⋅sin(θ₀) - zₐ                         \n",
       "asin⎜─────────────────────────────────────────────────────────────────────────\n",
       "    ⎜   ______________________________________________________________________\n",
       "    ⎜  ╱                  2                            2                      \n",
       "    ⎝╲╱  (r₀⋅sin(θ₀) - zₐ)  + (r₀⋅sin(φ₀)⋅cos(θ₀) - xₐ)  + (r₀⋅cos(φ₀)⋅cos(θ₀)\n",
       "\n",
       "        ⎞\n",
       "────────⎟\n",
       "________⎟\n",
       "      2 ⎟\n",
       " - yₐ)  ⎠"
      ]
     },
     "execution_count": 12,
     "metadata": {},
     "output_type": "execute_result"
    }
   ],
   "source": [
    "el"
   ]
  },
  {
   "cell_type": "code",
   "execution_count": 13,
   "metadata": {
    "collapsed": false
   },
   "outputs": [
    {
     "data": {
      "text/latex": [
       "$$\\operatorname{acos}{\\left (\\frac{r_{0} \\cos{\\left (\\phi_{0} \\right )} \\cos{\\left (\\theta_{0} \\right )} - y_{a}}{\\sqrt{\\left(r_{0} \\sin{\\left (\\phi_{0} \\right )} \\cos{\\left (\\theta_{0} \\right )} - x_{a}\\right)^{2} + \\left(r_{0} \\cos{\\left (\\phi_{0} \\right )} \\cos{\\left (\\theta_{0} \\right )} - y_{a}\\right)^{2}}} \\right )}$$"
      ],
      "text/plain": [
       "    ⎛                  r₀⋅cos(φ₀)⋅cos(θ₀) - yₐ                   ⎞\n",
       "acos⎜────────────────────────────────────────────────────────────⎟\n",
       "    ⎜   _________________________________________________________⎟\n",
       "    ⎜  ╱                          2                            2 ⎟\n",
       "    ⎝╲╱  (r₀⋅sin(φ₀)⋅cos(θ₀) - xₐ)  + (r₀⋅cos(φ₀)⋅cos(θ₀) - yₐ)  ⎠"
      ]
     },
     "execution_count": 13,
     "metadata": {},
     "output_type": "execute_result"
    }
   ],
   "source": [
    "az"
   ]
  },
  {
   "cell_type": "code",
   "execution_count": 14,
   "metadata": {
    "collapsed": false
   },
   "outputs": [
    {
     "name": "stdout",
     "output_type": "stream",
     "text": [
      "r_0 = Symbol('r_0')\n",
      "theta_0 = Symbol('theta_0')\n",
      "z_a = Symbol('z_a')\n",
      "phi_0 = Symbol('phi_0')\n",
      "x_a = Symbol('x_a')\n",
      "y_a = Symbol('y_a')\n",
      "e = asin((r_0*sin(theta_0) - z_a)/sqrt((r_0*sin(theta_0) - z_a)**2 + (r_0*sin(phi_0)*cos(theta_0) - x_a)**2 + (r_0*cos(phi_0)*cos(theta_0) - y_a)**2))\n"
     ]
    }
   ],
   "source": [
    "print(sp.python(el))"
   ]
  },
  {
   "cell_type": "code",
   "execution_count": 15,
   "metadata": {
    "collapsed": false
   },
   "outputs": [
    {
     "name": "stdout",
     "output_type": "stream",
     "text": [
      "r_0 = Symbol('r_0')\n",
      "phi_0 = Symbol('phi_0')\n",
      "theta_0 = Symbol('theta_0')\n",
      "y_a = Symbol('y_a')\n",
      "x_a = Symbol('x_a')\n",
      "e = acos((r_0*cos(phi_0)*cos(theta_0) - y_a)/sqrt((r_0*sin(phi_0)*cos(theta_0) - x_a)**2 + (r_0*cos(phi_0)*cos(theta_0) - y_a)**2))\n"
     ]
    }
   ],
   "source": [
    "print(sp.python(az))"
   ]
  },
  {
   "cell_type": "code",
   "execution_count": null,
   "metadata": {
    "collapsed": true
   },
   "outputs": [],
   "source": []
  }
 ],
 "metadata": {
  "kernelspec": {
   "display_name": "Python 3",
   "language": "python",
   "name": "python3"
  },
  "language_info": {
   "codemirror_mode": {
    "name": "ipython",
    "version": 3
   },
   "file_extension": ".py",
   "mimetype": "text/x-python",
   "name": "python",
   "nbconvert_exporter": "python",
   "pygments_lexer": "ipython3",
   "version": "3.5.4rc1"
  }
 },
 "nbformat": 4,
 "nbformat_minor": 2
}
