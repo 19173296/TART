{
 "cells": [
  {
   "cell_type": "markdown",
   "metadata": {},
   "source": [
    "# Far field calculations for phase calibration\n",
    "\n",
    "For a source at distance $r$ from the phase-center of the telescope, and for an antenna\n",
    "at a distance $b$ from the phase center, what is the maximum phase error that results if we\n",
    "don't take the finite distance into consideration.\n",
    "\n",
    "A bit of geometry. The "
   ]
  },
  {
   "cell_type": "code",
   "execution_count": 1,
   "metadata": {
    "collapsed": false
   },
   "outputs": [],
   "source": [
    "import sympy as sp\n",
    "\n",
    "r = sp.Symbol('r', real=True, positive=True)\n",
    "b = sp.Symbol('b', real=True, positive=True)\n",
    "\n",
    "distance_error = sp.simplify(r*(1 - sp.cos(sp.asin(b/r))))"
   ]
  },
  {
   "cell_type": "code",
   "execution_count": 2,
   "metadata": {
    "collapsed": false
   },
   "outputs": [
    {
     "data": {
      "text/plain": [
       "r - sqrt(-b**2 + r**2)"
      ]
     },
     "execution_count": 2,
     "metadata": {},
     "output_type": "execute_result"
    }
   ],
   "source": [
    "distance_error"
   ]
  },
  {
   "cell_type": "markdown",
   "metadata": {},
   "source": [
    "## Simulation\n",
    "\n",
    "Plot the resulting distance error (measured in degrees) as a function of source radius for a telescope with a maximum radius of 2 meters."
   ]
  },
  {
   "cell_type": "code",
   "execution_count": 3,
   "metadata": {
    "collapsed": false
   },
   "outputs": [
    {
     "data": {
      "image/png": "[encoded data removed]",
      "text/plain": [
       "<matplotlib.figure.Figure at 0x7f66e5bc8128>"
      ]
     },
     "metadata": {},
     "output_type": "display_data"
    }
   ],
   "source": [
    "import matplotlib.pyplot as plt\n",
    "import numpy as np\n",
    "\n",
    "baseline = 2.0\n",
    "wavelen = 0.19\n",
    "r = np.linspace(15,500,200)\n",
    "distance_error = r - np.sqrt(-baseline**2 + r**2)\n",
    "phase_error = (distance_error / wavelen)*2*np.pi\n",
    "plt.semilogy(r,np.degrees(phase_error))\n",
    "plt.grid(True)\n",
    "plt.xlabel('Distance to source (m)')\n",
    "plt.ylabel('Phase Error (degrees)')\n",
    "plt.title('Plane-wave Error vs source distance (b = 4m)')\n",
    "plt.show()"
   ]
  },
  {
   "cell_type": "markdown",
   "metadata": {},
   "source": [
    "The conclusion is that for all calibration sources, which are likely to be quite close (within 100m of the telescope), we need to take the source distance into consideration to keep the phase error below ten degrees. Even after 200m, the phase error is still too large."
   ]
  },
  {
   "cell_type": "code",
   "execution_count": null,
   "metadata": {
    "collapsed": true
   },
   "outputs": [],
   "source": []
  }
 ],
 "metadata": {
  "kernelspec": {
   "display_name": "Python 3",
   "language": "python",
   "name": "python3"
  },
  "language_info": {
   "codemirror_mode": {
    "name": "ipython",
    "version": 3
   },
   "file_extension": ".py",
   "mimetype": "text/x-python",
   "name": "python",
   "nbconvert_exporter": "python",
   "pygments_lexer": "ipython3",
   "version": "3.5.4rc1"
  }
 },
 "nbformat": 4,
 "nbformat_minor": 2
}
