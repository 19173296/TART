{
 "cells": [
  {
   "cell_type": "markdown",
   "metadata": {},
   "source": [
    "## Antenna Position Measurement\n",
    "\n",
    "The antennas are laid out on tiles, and these tiles are placed on site. Once this is done, a survey is needed to refine the positions of each antenna in the array.\n",
    "\n",
    "Three reference posts are placed. The first is at the centre of the array, the second approximately 2.5 meters due north. The first and second post defines the $y$ axis. The third post is placed approximately 2.5 meters east of the centre, and reasonably close to at right angles to the $y$ axis.\n",
    "\n",
    "The first reference point has coordinates (0,0). The second reference point has coordinates (0, y) and the third is not known, but must be established by measurement.\n",
    "\n",
    "All measurements are made from the height of the antennas on the reference points."
   ]
  },
  {
   "cell_type": "code",
   "execution_count": 1,
   "metadata": {
    "collapsed": false
   },
   "outputs": [],
   "source": [
    "import numpy as np\n",
    "from scipy.optimize import minimize "
   ]
  },
  {
   "cell_type": "code",
   "execution_count": 2,
   "metadata": {
    "collapsed": true
   },
   "outputs": [],
   "source": [
    "x0 = [0,0]\n",
    "x1 = [0, 2209]"
   ]
  },
  {
   "cell_type": "markdown",
   "metadata": {},
   "source": [
    "### Locating the third reference point"
   ]
  },
  {
   "cell_type": "code",
   "execution_count": 3,
   "metadata": {
    "collapsed": false
   },
   "outputs": [],
   "source": [
    "d_0_2 = 2047\n",
    "d_1_2 = 3020\n",
    "\n",
    "def dist(a,b):\n",
    "    return np.sqrt((a[0]-b[0])**2 + (a[1]-b[1])**2)\n",
    "\n",
    "def f(x):\n",
    "    return (dist(x0, x) - d_0_2)**2 + (dist(x1, x) - d_1_2)**2\n",
    "\n",
    "initial_guess = [2047, 0]\n",
    "res = minimize(f, initial_guess)\n",
    "x2 = res.x"
   ]
  },
  {
   "cell_type": "code",
   "execution_count": 4,
   "metadata": {
    "collapsed": false
   },
   "outputs": [
    {
     "data": {
      "text/plain": [
       "[[0, 2209], [0, 0], array([ 2046.96807079,   -11.43277996])]"
      ]
     },
     "execution_count": 4,
     "metadata": {},
     "output_type": "execute_result"
    }
   ],
   "source": [
    "reference_points = [x1, x0, x2]\n",
    "reference_points"
   ]
  },
  {
   "cell_type": "markdown",
   "metadata": {},
   "source": [
    "### Finding the antennas\n",
    "\n",
    "This is done by measuring the distance from each antenna to the three reference points x0, x1 and x2."
   ]
  },
  {
   "cell_type": "code",
   "execution_count": 5,
   "metadata": {
    "collapsed": true
   },
   "outputs": [],
   "source": [
    "n_ant = 24\n",
    "m = np.zeros((24,3))"
   ]
  },
  {
   "cell_type": "code",
   "execution_count": 6,
   "metadata": {
    "collapsed": false
   },
   "outputs": [],
   "source": [
    "m[0,:] = [1563, 855, 2618]\n",
    "m[1,:] = [1407, 825, 2355]\n",
    "m[2,:] = [1750, 765, 2644]\n",
    "m[3,:] = [839, 1373, 2416]\n",
    "m[4,:] = [1151, 1422, 2986]\n",
    "m[5,:] = [842, 1410, 2662]\n",
    "m[6,:] = [2527, 1119, 929]\n",
    "m[7,:] = [2274, 1200, 915]\n",
    "m[8,:] = [2715, 1261, 824]\n",
    "m[9,:] = [1684, 1064, 1457]\n",
    "m[10,:] = [2238, 546, 1501]\n",
    "m[11,:] = [1834, 805, 1493]\n",
    "m[12,:] = [3320, 1111, 2370]\n",
    "m[13,:] = [3385, 1192, 2131]\n",
    "m[14,:] = [3446, 1247, 2555]\n",
    "m[15,:] = [3063, 1048, 1531]\n",
    "m[16,:] = [2760, 550, 2096]\n",
    "m[17,:] = [2873, 784, 1689]\n",
    "m[18,:] = [2342, 934, 2979]\n",
    "m[19,:] = [2638, 1142, 3179]\n",
    "m[20,:] = [2186, 993, 3020]\n",
    "m[21,:] = [3130, 1260, 3140]\n",
    "m[22,:] = [2545, 565, 2544]\n",
    "m[23,:] = [2942, 1000, 2891]"
   ]
  },
  {
   "cell_type": "code",
   "execution_count": 7,
   "metadata": {
    "collapsed": false
   },
   "outputs": [
    {
     "data": {
      "text/plain": [
       "array([[-0.29      ,  0.79      ,  0.        ],\n",
       "       [ 0.03      ,  0.81      ,  0.        ],\n",
       "       [-0.4       ,  0.64      ,  0.        ],\n",
       "       [ 0.39      ,  1.31      ,  0.        ],\n",
       "       [-0.34      ,  1.37      ,  0.        ],\n",
       "       [ 0.12      ,  1.4       ,  0.        ],\n",
       "       [ 1.0736767 , -0.32677589,  0.        ],\n",
       "       [ 1.20206681, -0.03298007,  0.        ],\n",
       "       [ 1.156861  , -0.49315008,  0.        ],\n",
       "       [ 0.92174036,  0.51567016,  0.        ],\n",
       "       [ 0.53489056, -0.10630028,  0.        ],\n",
       "       [ 0.71833939,  0.31660222,  0.        ],\n",
       "       [-0.31827997, -1.07906536,  0.        ],\n",
       "       [-0.02585563, -1.21054923,  0.        ],\n",
       "       [-0.48552288, -1.160489  ,  0.        ],\n",
       "       [ 0.5257228 , -0.93602923,  0.        ],\n",
       "       [-0.09212992, -0.54263628,  0.        ],\n",
       "       [ 0.32881278, -0.73053849,  0.        ],\n",
       "       [-0.91153167,  0.25314087,  0.        ],\n",
       "       [-1.15446773,  0.04389922,  0.        ],\n",
       "       [-0.91448021,  0.43912825,  0.        ],\n",
       "       [-1.13932641, -0.57203157,  0.        ],\n",
       "       [-0.5213234 , -0.17887476,  0.        ],\n",
       "       [-0.8697889 , -0.4806558 ,  0.        ]])"
      ]
     },
     "execution_count": 7,
     "metadata": {},
     "output_type": "execute_result"
    }
   ],
   "source": [
    "#Initial Guesses are from json\n",
    "import requests\n",
    "import json\n",
    "\n",
    "pos_url = \"https://tart.elec.ac.nz/dev/api/v1/imaging/antenna_positions\"\n",
    "\n",
    "def get_data(path):\n",
    "    server = \"https://tart.elec.ac.nz/dev\"\n",
    "\n",
    "    r = requests.get('{}/{}'.format(server, path))\n",
    "    return json.loads(r.text)\n",
    "\n",
    "def get_pos():\n",
    "    return np.array(get_data('api/v1/imaging/antenna_positions'))\n",
    "\n",
    "current_pos = get_pos()\n",
    "current_pos\n"
   ]
  },
  {
   "cell_type": "code",
   "execution_count": 8,
   "metadata": {
    "collapsed": false
   },
   "outputs": [
    {
     "data": {
      "image/png": "[encoded data removed]",
      "text/plain": [
       "<matplotlib.figure.Figure at 0x7ff6566662b0>"
      ]
     },
     "metadata": {},
     "output_type": "display_data"
    }
   ],
   "source": [
    "initial_guess = np.zeros(2*n_ant)\n",
    "\n",
    "for i in range(n_ant):\n",
    "    initial_guess[2*i:2*i+2] = current_pos[i][0:2]*1000\n",
    "    #print(current_pos[i][0:2]*1000)\n",
    "initial_guess\n",
    "\n",
    "pos_i = current_pos*1000\n",
    "import matplotlib.pyplot as plt\n",
    "plt.scatter(pos_i[:,0], pos_i[:,1])\n",
    "plt.xlim(-2000,2000)\n",
    "plt.ylim(-2000,2000)\n",
    "plt.show()"
   ]
  },
  {
   "cell_type": "code",
   "execution_count": 9,
   "metadata": {
    "collapsed": false
   },
   "outputs": [
    {
     "name": "stdout",
     "output_type": "stream",
     "text": [
      "1256725.40456\n"
     ]
    },
    {
     "data": {
      "text/plain": [
       "      fun: 32.160056269275394\n",
       " hess_inv: array([[  2.97787007e-01,  -1.59240662e-01,   1.40602240e+00, ...,\n",
       "         -2.84636486e+00,   3.07446213e-02,  -6.66225518e-03],\n",
       "       [ -1.59240662e-01,   2.16087925e-01,  -4.01721290e-02, ...,\n",
       "          1.06423481e-01,   3.33499745e-03,   5.68530785e-02],\n",
       "       [  1.40602240e+00,  -4.01721290e-02,   8.97807256e+01, ...,\n",
       "         -1.89780712e+02,   1.99564380e+00,  -1.28794171e+00],\n",
       "       ..., \n",
       "       [ -2.84636486e+00,   1.06423481e-01,  -1.89780712e+02, ...,\n",
       "          4.01812649e+02,  -4.13871829e+00,   2.64062113e+00],\n",
       "       [  3.07446213e-02,   3.33499745e-03,   1.99564380e+00, ...,\n",
       "         -4.13871829e+00,   7.54593635e-01,  -2.71617240e-01],\n",
       "       [ -6.66225518e-03,   5.68530785e-02,  -1.28794171e+00, ...,\n",
       "          2.64062113e+00,  -2.71617240e-01,   8.37643364e-01]])\n",
       "      jac: array([ -6.67572021e-06,  -9.05990601e-06,   1.14440918e-05,\n",
       "        -3.33786011e-06,   4.76837158e-06,   2.86102295e-06,\n",
       "        -8.10623169e-06,   1.43051147e-05,   1.47819519e-05,\n",
       "        -7.15255737e-06,   2.14576721e-05,   1.57356262e-05,\n",
       "        -1.23977661e-05,   6.19888306e-06,  -9.05990601e-06,\n",
       "         2.09808350e-05,  -1.95503235e-05,  -4.76837158e-06,\n",
       "         8.10623169e-06,  -1.33514404e-05,   1.38282776e-05,\n",
       "         1.00135803e-05,   8.10623169e-06,   6.19888306e-06,\n",
       "        -1.81198120e-05,  -5.72204590e-06,   1.47819519e-05,\n",
       "         1.43051147e-06,   3.81469727e-06,   3.81469727e-06,\n",
       "        -3.33786011e-05,  -6.53266907e-05,  -6.67572021e-06,\n",
       "         4.29153442e-06,   0.00000000e+00,  -3.81469727e-06,\n",
       "         3.81469727e-06,  -1.81198120e-05,  -3.33786011e-06,\n",
       "        -1.66893005e-05,   1.90734863e-06,  -1.43051147e-06,\n",
       "         9.72747803e-05,  -7.62939453e-06,   1.90734863e-05,\n",
       "         4.29153442e-05,  -2.86102295e-06,  -5.24520874e-06])\n",
       "  message: 'Desired error not necessarily achieved due to precision loss.'\n",
       "     nfev: 21973\n",
       "      nit: 49\n",
       "     njev: 439\n",
       "   status: 2\n",
       "  success: False\n",
       "        x: array([ -467.10644069,   716.9550079 ,  -159.71634657,   810.30413071,\n",
       "        -538.08115815,   543.77684753,    66.14022101,  1371.98030366,\n",
       "        -654.13109197,  1262.21216309,  -213.47586495,  1394.16821194,\n",
       "        1118.3358511 ,   -56.97044035,  1172.17167672,   259.84304158,\n",
       "        1245.11384938,  -203.38199012,   785.23723618,   718.53157394,\n",
       "         545.70924562,    38.4341815 ,   639.76701489,   489.5362615 ,\n",
       "         -52.94193669, -1110.16183432,   255.23265656, -1165.33723777,\n",
       "        -198.0372302 , -1231.24225038,   715.13335242,  -767.93745775,\n",
       "          21.38590067,  -550.24834484,   473.34891507,  -624.84387323,\n",
       "        -931.61343487,    60.28627532, -1128.0855882 ,  -175.67239288,\n",
       "        -962.0310565 ,   246.06998051, -1004.91356171,  -756.39665194,\n",
       "        -482.86816749,  -290.44618123,  -777.54827979,  -628.49753891])"
      ]
     },
     "execution_count": 9,
     "metadata": {},
     "output_type": "execute_result"
    }
   ],
   "source": [
    "def f(x):\n",
    "    ret = 0\n",
    "    for i in range(n_ant):\n",
    "        for j in range(3):\n",
    "            p = [x[2*i],x[2*i+1]]\n",
    "            ret += (dist(reference_points[j], p) - m[i,j])**2\n",
    "    return ret\n",
    "\n",
    "print(f(initial_guess))\n",
    "res = minimize(f, initial_guess)\n",
    "res"
   ]
  },
  {
   "cell_type": "code",
   "execution_count": 10,
   "metadata": {
    "collapsed": false
   },
   "outputs": [
    {
     "data": {
      "text/plain": [
       "array([[ -467.10644069,   716.9550079 ],\n",
       "       [ -159.71634657,   810.30413071],\n",
       "       [ -538.08115815,   543.77684753],\n",
       "       [   66.14022101,  1371.98030366],\n",
       "       [ -654.13109197,  1262.21216309],\n",
       "       [ -213.47586495,  1394.16821194],\n",
       "       [ 1118.3358511 ,   -56.97044035],\n",
       "       [ 1172.17167672,   259.84304158],\n",
       "       [ 1245.11384938,  -203.38199012],\n",
       "       [  785.23723618,   718.53157394],\n",
       "       [  545.70924562,    38.4341815 ],\n",
       "       [  639.76701489,   489.5362615 ],\n",
       "       [  -52.94193669, -1110.16183432],\n",
       "       [  255.23265656, -1165.33723777],\n",
       "       [ -198.0372302 , -1231.24225038],\n",
       "       [  715.13335242,  -767.93745775],\n",
       "       [   21.38590067,  -550.24834484],\n",
       "       [  473.34891507,  -624.84387323],\n",
       "       [ -931.61343487,    60.28627532],\n",
       "       [-1128.0855882 ,  -175.67239288],\n",
       "       [ -962.0310565 ,   246.06998051],\n",
       "       [-1004.91356171,  -756.39665194],\n",
       "       [ -482.86816749,  -290.44618123],\n",
       "       [ -777.54827979,  -628.49753891]])"
      ]
     },
     "execution_count": 10,
     "metadata": {},
     "output_type": "execute_result"
    }
   ],
   "source": [
    "pos = res.x.reshape((24,2))\n",
    "pos"
   ]
  },
  {
   "cell_type": "code",
   "execution_count": 11,
   "metadata": {
    "collapsed": false
   },
   "outputs": [
    {
     "data": {
      "image/png": "[encoded data removed]",
      "text/plain": [
       "<matplotlib.figure.Figure at 0x7ff653783d30>"
      ]
     },
     "metadata": {},
     "output_type": "display_data"
    }
   ],
   "source": [
    "plt.scatter(pos[:,0], pos[:,1])\n",
    "plt.scatter(pos_i[:,0], pos_i[:,1])\n",
    "\n",
    "plt.xlim(-2000,2000)\n",
    "plt.ylim(-2000,2000)\n",
    "plt.grid(True)\n",
    "plt.show()"
   ]
  },
  {
   "cell_type": "code",
   "execution_count": 21,
   "metadata": {
    "collapsed": false
   },
   "outputs": [
    {
     "data": {
      "text/plain": [
       "'[[-0.467, 0.717, 0.0], [-0.16, 0.81, 0.0], [-0.538, 0.544, 0.0], [0.066, 1.372, 0.0], [-0.654, 1.262, 0.0], [-0.213, 1.394, 0.0], [1.118, -0.057, 0.0], [1.172, 0.26, 0.0], [1.245, -0.203, 0.0], [0.785, 0.719, 0.0], [0.546, 0.038, 0.0], [0.64, 0.49, 0.0], [-0.053, -1.11, 0.0], [0.255, -1.165, 0.0], [-0.198, -1.231, 0.0], [0.715, -0.768, 0.0], [0.021, -0.55, 0.0], [0.473, -0.625, 0.0], [-0.932, 0.06, 0.0], [-1.128, -0.176, 0.0], [-0.962, 0.246, 0.0], [-1.005, -0.756, 0.0], [-0.483, -0.29, 0.0], [-0.778, -0.628, 0.0]]'"
      ]
     },
     "execution_count": 21,
     "metadata": {},
     "output_type": "execute_result"
    }
   ],
   "source": [
    "result = np.zeros((n_ant, 3))\n",
    "result[:,:-1] = np.round(pos/1000.0, 3)\n",
    "json.dumps(result.tolist())"
   ]
  },
  {
   "cell_type": "code",
   "execution_count": null,
   "metadata": {
    "collapsed": true
   },
   "outputs": [],
   "source": []
  }
 ],
 "metadata": {
  "kernelspec": {
   "display_name": "Python 3",
   "language": "python",
   "name": "python3"
  },
  "language_info": {
   "codemirror_mode": {
    "name": "ipython",
    "version": 3
   },
   "file_extension": ".py",
   "mimetype": "text/x-python",
   "name": "python",
   "nbconvert_exporter": "python",
   "pygments_lexer": "ipython3",
   "version": "3.5.4rc1"
  }
 },
 "nbformat": 4,
 "nbformat_minor": 2
}
