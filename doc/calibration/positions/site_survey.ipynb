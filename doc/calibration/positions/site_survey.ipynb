{
 "cells": [
  {
   "cell_type": "markdown",
   "metadata": {},
   "source": [
    "## Antenna Position Measurement\n",
    "\n",
    "The antennas are laid out on tiles, and these tiles are placed on site. Once this is done, a survey is needed to refine the positions of each antenna in the array.\n",
    "\n",
    "Three reference posts are placed. The first is at the centre of the array, the second approximately 2.5 meters due north. The first and second post defines the $y$ axis. The third post is placed approximately 2.5 meters east of the centre, and reasonably close to at right angles to the $y$ axis.\n",
    "\n",
    "The first reference point has coordinates (0,0). The second reference point has coordinates (0, y) and the third is not known, but must be established by measurement.\n",
    "\n",
    "All measurements are made from the height of the antennas on the reference points."
   ]
  },
  {
   "cell_type": "code",
   "execution_count": 1,
   "metadata": {
    "collapsed": false
   },
   "outputs": [
    {
     "ename": "ImportError",
     "evalue": "No module named 'scipy'",
     "output_type": "error",
     "traceback": [
      "\u001b[0;31m---------------------------------------------------------------------------\u001b[0m",
      "\u001b[0;31mImportError\u001b[0m                               Traceback (most recent call last)",
      "\u001b[0;32m<ipython-input-1-25ccaf8911b3>\u001b[0m in \u001b[0;36m<module>\u001b[0;34m()\u001b[0m\n\u001b[1;32m      1\u001b[0m \u001b[0;32mimport\u001b[0m \u001b[0mnumpy\u001b[0m \u001b[0;32mas\u001b[0m \u001b[0mnp\u001b[0m\u001b[0;34m\u001b[0m\u001b[0m\n\u001b[0;32m----> 2\u001b[0;31m \u001b[0;32mfrom\u001b[0m \u001b[0mscipy\u001b[0m\u001b[0;34m.\u001b[0m\u001b[0moptimize\u001b[0m \u001b[0;32mimport\u001b[0m \u001b[0mminimize\u001b[0m\u001b[0;34m\u001b[0m\u001b[0m\n\u001b[0m",
      "\u001b[0;31mImportError\u001b[0m: No module named 'scipy'"
     ]
    }
   ],
   "source": [
    "import numpy as np\n",
    "from scipy.optimize import minimize "
   ]
  },
  {
   "cell_type": "code",
   "execution_count": null,
   "metadata": {
    "collapsed": true
   },
   "outputs": [],
   "source": [
    "x0 = [0,0]\n",
    "x1 = [0, 2209]"
   ]
  },
  {
   "cell_type": "markdown",
   "metadata": {},
   "source": [
    "### Locating the third reference point"
   ]
  },
  {
   "cell_type": "code",
   "execution_count": null,
   "metadata": {
    "collapsed": false
   },
   "outputs": [],
   "source": [
    "d_0_2 = 2047\n",
    "d_1_2 = 3020\n",
    "\n",
    "def dist(a,b):\n",
    "    return np.sqrt((a[0]-b[0])**2 + (a[1]-b[1])**2)\n",
    "\n",
    "def f(x):\n",
    "    return (dist(x0, x) - d_0_2)**2 + (dist(x1, x) - d_1_2)**2\n",
    "\n",
    "initial_guess = [2047, 0]\n",
    "res = minimize(f, initial_guess)\n",
    "x2 = res.x"
   ]
  },
  {
   "cell_type": "code",
   "execution_count": null,
   "metadata": {
    "collapsed": false
   },
   "outputs": [],
   "source": [
    "reference_points = [x1, x0, x2]\n",
    "reference_points"
   ]
  },
  {
   "cell_type": "markdown",
   "metadata": {},
   "source": [
    "### Finding the antennas\n",
    "\n",
    "This is done by measuring the distance from each antenna to the three reference points x0, x1 and x2."
   ]
  },
  {
   "cell_type": "code",
   "execution_count": null,
   "metadata": {
    "collapsed": true
   },
   "outputs": [],
   "source": [
    "n_ant = 24\n",
    "m = np.zeros((24,3))"
   ]
  },
  {
   "cell_type": "code",
   "execution_count": null,
   "metadata": {
    "collapsed": false
   },
   "outputs": [],
   "source": [
    "m[0,:] = [1563, 855, 2618]\n",
    "m[1,:] = [1407, 825, 2355]\n",
    "m[2,:] = [1750, 765, 2644]\n",
    "m[3,:] = [839, 1373, 2416]\n",
    "m[4,:] = [1151, 1422, 2986]\n",
    "m[5,:] = [842, 1410, 2662]\n",
    "m[6,:] = [2527, 1119, 929]\n",
    "m[7,:] = [2274, 1200, 915]\n",
    "m[8,:] = [2715, 1261, 824]\n",
    "m[9,:] = [1684, 1064, 1457]\n",
    "m[10,:] = [2238, 546, 1501]\n",
    "m[11,:] = [1834, 805, 1493]\n",
    "m[12,:] = [3320, 1111, 2370]\n",
    "m[13,:] = [3385, 1192, 2131]\n",
    "m[14,:] = [3446, 1247, 2555]\n",
    "m[15,:] = [3063, 1048, 1531]\n",
    "m[16,:] = [2760, 550, 2096]\n",
    "m[17,:] = [2873, 784, 1689]\n",
    "m[18,:] = [2342, 934, 2979]\n",
    "m[19,:] = [2638, 1142, 3179]\n",
    "m[20,:] = [2186, 993, 3020]\n",
    "m[21,:] = [3130, 1260, 3140]\n",
    "m[22,:] = [2545, 565, 2544]\n",
    "m[23,:] = [2942, 1000, 2891]"
   ]
  },
  {
   "cell_type": "code",
   "execution_count": null,
   "metadata": {
    "collapsed": false
   },
   "outputs": [],
   "source": [
    "#Initial Guesses are from json\n",
    "import requests\n",
    "import json\n",
    "\n",
    "pos_url = \"https://tart.elec.ac.nz/dev/api/v1/imaging/antenna_positions\"\n",
    "\n",
    "def get_data(path):\n",
    "    server = \"https://tart.elec.ac.nz/dev\"\n",
    "\n",
    "    r = requests.get('{}/{}'.format(server, path))\n",
    "    return json.loads(r.text)\n",
    "\n",
    "def get_pos():\n",
    "    return np.array(get_data('api/v1/imaging/antenna_positions'))\n",
    "\n",
    "current_pos = get_pos()\n",
    "current_pos\n"
   ]
  },
  {
   "cell_type": "code",
   "execution_count": null,
   "metadata": {
    "collapsed": false
   },
   "outputs": [],
   "source": [
    "initial_guess = np.zeros(2*n_ant)\n",
    "\n",
    "for i in range(n_ant):\n",
    "    initial_guess[2*i:2*i+2] = current_pos[i][0:2]*1000\n",
    "    #print(current_pos[i][0:2]*1000)\n",
    "initial_guess\n",
    "\n",
    "pos_i = current_pos*1000\n",
    "import matplotlib.pyplot as plt\n",
    "plt.scatter(pos_i[:,0], pos_i[:,1])\n",
    "plt.xlim(-2000,2000)\n",
    "plt.ylim(-2000,2000)\n",
    "plt.show()"
   ]
  },
  {
   "cell_type": "code",
   "execution_count": null,
   "metadata": {
    "collapsed": false
   },
   "outputs": [],
   "source": [
    "def f(x):\n",
    "    ret = 0\n",
    "    for i in range(n_ant):\n",
    "        for j in range(3):\n",
    "            p = [x[2*i],x[2*i+1]]\n",
    "            ret += (dist(reference_points[j], p) - m[i,j])**2\n",
    "    return ret\n",
    "\n",
    "print(f(initial_guess))\n",
    "res = minimize(f, initial_guess)\n",
    "res"
   ]
  },
  {
   "cell_type": "code",
   "execution_count": null,
   "metadata": {
    "collapsed": false
   },
   "outputs": [],
   "source": [
    "pos = res.x.reshape((24,2))\n",
    "pos"
   ]
  },
  {
   "cell_type": "code",
   "execution_count": null,
   "metadata": {
    "collapsed": false
   },
   "outputs": [],
   "source": [
    "plt.scatter(pos[:,0], pos[:,1])\n",
    "plt.scatter(pos_i[:,0], pos_i[:,1])\n",
    "\n",
    "plt.xlim(-2000,2000)\n",
    "plt.ylim(-2000,2000)\n",
    "plt.grid(True)\n",
    "plt.show()"
   ]
  },
  {
   "cell_type": "code",
   "execution_count": null,
   "metadata": {
    "collapsed": false
   },
   "outputs": [],
   "source": [
    "result = np.zeros((n_ant, 3))\n",
    "result[:,:-1] = np.round(pos/1000.0, 3)\n",
    "json.dumps(result.tolist())"
   ]
  },
  {
   "cell_type": "code",
   "execution_count": null,
   "metadata": {
    "collapsed": true
   },
   "outputs": [],
   "source": []
  }
 ],
 "metadata": {
  "kernelspec": {
   "display_name": "Python 3",
   "language": "python",
   "name": "python3"
  },
  "language_info": {
   "codemirror_mode": {
    "name": "ipython",
    "version": 3
   },
   "file_extension": ".py",
   "mimetype": "text/x-python",
   "name": "python",
   "nbconvert_exporter": "python",
   "pygments_lexer": "ipython3",
   "version": "3.5.4"
  }
 },
 "nbformat": 4,
 "nbformat_minor": 2
}
